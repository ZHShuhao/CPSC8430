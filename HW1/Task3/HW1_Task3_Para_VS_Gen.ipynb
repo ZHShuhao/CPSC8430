{
  "nbformat": 4,
  "nbformat_minor": 0,
  "metadata": {
    "colab": {
      "provenance": []
    },
    "kernelspec": {
      "name": "python3",
      "display_name": "Python 3"
    },
    "language_info": {
      "name": "python"
    }
  },
  "cells": [
    {
      "cell_type": "code",
      "execution_count": null,
      "metadata": {
        "id": "2qpSUKmdN72w"
      },
      "outputs": [],
      "source": [
        "import torch\n",
        "import torch.nn as nn\n",
        "import torch.optim as optim\n",
        "from torchvision import datasets, transforms\n",
        "from torch.autograd import Variable\n",
        "from PIL import Image\n",
        "import torch.nn.functional as F\n",
        "import numpy as np\n",
        "import matplotlib.pyplot as plt\n",
        "import os"
      ]
    },
    {
      "cell_type": "code",
      "source": [
        "def load_data(train_size, test_size):\n",
        "        trainset = datasets.MNIST('data', train = True, download = True,\n",
        "                transform = transforms.Compose([\n",
        "                transforms.ToTensor(),\n",
        "                transforms.Normalize((0.1307,), (0.3081,))\n",
        "                ]))\n",
        "        train_data = torch.utils.data.DataLoader(trainset, batch_size=train_size, shuffle=True)\n",
        "\n",
        "        testset = datasets.MNIST('data', train = False, download = False,\n",
        "                transform = transforms.Compose([\n",
        "                transforms.ToTensor(),\n",
        "                transforms.Normalize((0.1307,), (0.3081,))\n",
        "                ]))\n",
        "        test_data =  torch.utils.data.DataLoader(testset, batch_size=test_size, shuffle=True)\n",
        "\n",
        "        return (train_data, test_data)"
      ],
      "metadata": {
        "id": "yiQIFmeROXZ4"
      },
      "execution_count": null,
      "outputs": []
    },
    {
      "cell_type": "code",
      "source": [
        "class Model_1 (nn.Module):\n",
        "    def __init__(self):\n",
        "        super().__init__()\n",
        "        self.linear1 = nn.Linear(784, 5)\n",
        "        self.linear2 = nn.Linear(5, 9)\n",
        "        self.linear3 = nn.Linear(9, 10)\n",
        "\n",
        "    def forward(self, x):\n",
        "        x = F.relu(self.linear1(x))\n",
        "        x = F.relu(self.linear2(x))\n",
        "        x = self.linear3(x)\n",
        "        return x\n",
        "\n",
        "class Model_2 (nn.Module):\n",
        "    def __init__(self):\n",
        "        super().__init__()\n",
        "        self.linear1 = nn.Linear(784, 25)\n",
        "        self.linear2 = nn.Linear(25, 8)\n",
        "        self.linear3 = nn.Linear(8, 10)\n",
        "\n",
        "    def forward(self, x):\n",
        "        x = F.relu(self.linear1(x))\n",
        "        x = F.relu(self.linear2(x))\n",
        "        x = self.linear3(x)\n",
        "        return x\n",
        "\n",
        "class Model_3 (nn.Module):\n",
        "    def __init__(self):\n",
        "        super().__init__()\n",
        "        self.linear1 = nn.Linear(784, 45)\n",
        "        self.linear2 = nn.Linear(45, 8)\n",
        "        self.linear3 = nn.Linear(8, 10)\n",
        "\n",
        "    def forward(self, x):\n",
        "        x = F.relu(self.linear1(x))\n",
        "        x = F.relu(self.linear2(x))\n",
        "        x = self.linear3(x)\n",
        "        return x\n",
        "\n",
        "class Model_4 (nn.Module):\n",
        "    def __init__(self):\n",
        "        super().__init__()\n",
        "        self.linear1 = nn.Linear(784, 65)\n",
        "        self.linear2 = nn.Linear(65, 8)\n",
        "        self.linear3 = nn.Linear(8, 10)\n",
        "\n",
        "    def forward(self, x):\n",
        "        x = F.relu(self.linear1(x))\n",
        "        x = F.relu(self.linear2(x))\n",
        "        x = self.linear3(x)\n",
        "        return x\n",
        "\n",
        "class Model_5 (nn.Module):\n",
        "    def __init__(self):\n",
        "        super().__init__()\n",
        "        self.linear1 = nn.Linear(784, 85)\n",
        "        self.linear2 = nn.Linear(85, 8)\n",
        "        self.linear3 = nn.Linear(8, 10)\n",
        "\n",
        "    def forward(self, x):\n",
        "        x = F.relu(self.linear1(x))\n",
        "        x = F.relu(self.linear2(x))\n",
        "        x = self.linear3(x)\n",
        "        return x\n",
        "\n",
        "class Model_6 (nn.Module):\n",
        "    def __init__(self):\n",
        "        super().__init__()\n",
        "        self.linear1 = nn.Linear(784, 105)\n",
        "        self.linear2 = nn.Linear(105, 8)\n",
        "        self.linear3 = nn.Linear(8, 10)\n",
        "\n",
        "    def forward(self, x):\n",
        "        x = F.relu(self.linear1(x))\n",
        "        x = F.relu(self.linear2(x))\n",
        "        x = self.linear3(x)\n",
        "        return x\n",
        "\n",
        "class Model_7 (nn.Module):\n",
        "    def __init__(self):\n",
        "        super().__init__()\n",
        "        self.linear1 = nn.Linear(784, 125)\n",
        "        self.linear2 = nn.Linear(125, 8)\n",
        "        self.linear3 = nn.Linear(8, 10)\n",
        "\n",
        "    def forward(self, x):\n",
        "        x = F.relu(self.linear1(x))\n",
        "        x = F.relu(self.linear2(x))\n",
        "        x = self.linear3(x)\n",
        "        return x\n",
        "\n",
        "class Model_8 (nn.Module):\n",
        "    def __init__(self):\n",
        "        super().__init__()\n",
        "        self.linear1 = nn.Linear(784, 145)\n",
        "        self.linear2 = nn.Linear(145, 8)\n",
        "        self.linear3 = nn.Linear(8, 10)\n",
        "\n",
        "    def forward(self, x):\n",
        "        x = F.relu(self.linear1(x))\n",
        "        x = F.relu(self.linear2(x))\n",
        "        x = self.linear3(x)\n",
        "        return x\n",
        "\n",
        "class Model_9 (nn.Module):\n",
        "    def __init__(self):\n",
        "        super().__init__()\n",
        "        self.linear1 = nn.Linear(784, 165)\n",
        "        self.linear2 = nn.Linear(165, 8)\n",
        "        self.linear3 = nn.Linear(8, 10)\n",
        "\n",
        "    def forward(self, x):\n",
        "        x = F.relu(self.linear1(x))\n",
        "        x = F.relu(self.linear2(x))\n",
        "        x = self.linear3(x)\n",
        "        return x\n",
        "\n",
        "class Model_10 (nn.Module):\n",
        "    def __init__(self):\n",
        "        super().__init__()\n",
        "        self.linear1 = nn.Linear(784, 185)\n",
        "        self.linear2 = nn.Linear(185, 8)\n",
        "        self.linear3 = nn.Linear(8, 10)\n",
        "\n",
        "    def forward(self, x):\n",
        "        x = F.relu(self.linear1(x))\n",
        "        x = F.relu(self.linear2(x))\n",
        "        x = self.linear3(x)\n",
        "        return x"
      ],
      "metadata": {
        "id": "JgvNTnWPOXcW"
      },
      "execution_count": null,
      "outputs": []
    },
    {
      "cell_type": "code",
      "source": [
        "def calculate_parameters(modelName, model):\n",
        "    param = sum(p.numel() for p in model.parameters())\n",
        "    print('{}: {}'.format(modelName, param))\n",
        "    return param"
      ],
      "metadata": {
        "id": "ufOzvW6dOXeW"
      },
      "execution_count": null,
      "outputs": []
    },
    {
      "cell_type": "code",
      "source": [
        "param_arr = []\n",
        "print('Number of parameters')\n",
        "\n",
        "param_arr.append(calculate_parameters('Model 1', Model_1()))\n",
        "\n",
        "param_arr.append(calculate_parameters('Model 2',  Model_2()))\n",
        "\n",
        "param_arr.append(calculate_parameters('Model 3',  Model_3()))\n",
        "\n",
        "param_arr.append(calculate_parameters('Model 4',  Model_4()))\n",
        "\n",
        "param_arr.append(calculate_parameters('Model 5',  Model_5()))\n",
        "\n",
        "param_arr.append(calculate_parameters('Model 6',  Model_6()))\n",
        "\n",
        "param_arr.append(calculate_parameters('Model 7',  Model_7()))\n",
        "\n",
        "param_arr.append(calculate_parameters('Model 8',  Model_8()))\n",
        "\n",
        "param_arr.append(calculate_parameters('Model 9',  Model_9()))\n",
        "\n",
        "param_arr.append(calculate_parameters('Model 10',  Model_10()))"
      ],
      "metadata": {
        "colab": {
          "base_uri": "https://localhost:8080/"
        },
        "id": "q_GaI4r9OXgZ",
        "outputId": "c68ac344-feb1-42e7-e7a8-3e0ad9fdfeea"
      },
      "execution_count": null,
      "outputs": [
        {
          "output_type": "stream",
          "name": "stdout",
          "text": [
            "Number of parameters\n",
            "Model 1: 4079\n",
            "Model 2: 19923\n",
            "Model 3: 35783\n",
            "Model 4: 51643\n",
            "Model 5: 67503\n",
            "Model 6: 83363\n",
            "Model 7: 99223\n",
            "Model 8: 115083\n",
            "Model 9: 130943\n",
            "Model 10: 146803\n"
          ]
        }
      ]
    },
    {
      "cell_type": "code",
      "source": [
        "train_batch_size = 50\n",
        "test_batch_size = 100\n",
        "train_data, test_data = load_data(train_batch_size, test_batch_size)"
      ],
      "metadata": {
        "colab": {
          "base_uri": "https://localhost:8080/"
        },
        "id": "TG0vWzAeOXiG",
        "outputId": "b4c308e2-aba9-4df2-9d2c-06b19981fe4f"
      },
      "execution_count": null,
      "outputs": [
        {
          "output_type": "stream",
          "name": "stdout",
          "text": [
            "Downloading http://yann.lecun.com/exdb/mnist/train-images-idx3-ubyte.gz\n",
            "Failed to download (trying next):\n",
            "HTTP Error 403: Forbidden\n",
            "\n",
            "Downloading https://ossci-datasets.s3.amazonaws.com/mnist/train-images-idx3-ubyte.gz\n",
            "Downloading https://ossci-datasets.s3.amazonaws.com/mnist/train-images-idx3-ubyte.gz to data/MNIST/raw/train-images-idx3-ubyte.gz\n"
          ]
        },
        {
          "output_type": "stream",
          "name": "stderr",
          "text": [
            "100%|██████████| 9912422/9912422 [00:00<00:00, 12634636.35it/s]\n"
          ]
        },
        {
          "output_type": "stream",
          "name": "stdout",
          "text": [
            "Extracting data/MNIST/raw/train-images-idx3-ubyte.gz to data/MNIST/raw\n",
            "\n",
            "Downloading http://yann.lecun.com/exdb/mnist/train-labels-idx1-ubyte.gz\n",
            "Failed to download (trying next):\n",
            "HTTP Error 403: Forbidden\n",
            "\n",
            "Downloading https://ossci-datasets.s3.amazonaws.com/mnist/train-labels-idx1-ubyte.gz\n",
            "Downloading https://ossci-datasets.s3.amazonaws.com/mnist/train-labels-idx1-ubyte.gz to data/MNIST/raw/train-labels-idx1-ubyte.gz\n"
          ]
        },
        {
          "output_type": "stream",
          "name": "stderr",
          "text": [
            "100%|██████████| 28881/28881 [00:00<00:00, 1734101.98it/s]\n"
          ]
        },
        {
          "output_type": "stream",
          "name": "stdout",
          "text": [
            "Extracting data/MNIST/raw/train-labels-idx1-ubyte.gz to data/MNIST/raw\n",
            "\n",
            "Downloading http://yann.lecun.com/exdb/mnist/t10k-images-idx3-ubyte.gz\n",
            "Failed to download (trying next):\n",
            "HTTP Error 403: Forbidden\n",
            "\n",
            "Downloading https://ossci-datasets.s3.amazonaws.com/mnist/t10k-images-idx3-ubyte.gz\n",
            "Downloading https://ossci-datasets.s3.amazonaws.com/mnist/t10k-images-idx3-ubyte.gz to data/MNIST/raw/t10k-images-idx3-ubyte.gz\n"
          ]
        },
        {
          "output_type": "stream",
          "name": "stderr",
          "text": [
            "100%|██████████| 1648877/1648877 [00:00<00:00, 13598674.32it/s]\n"
          ]
        },
        {
          "output_type": "stream",
          "name": "stdout",
          "text": [
            "Extracting data/MNIST/raw/t10k-images-idx3-ubyte.gz to data/MNIST/raw\n",
            "\n",
            "Downloading http://yann.lecun.com/exdb/mnist/t10k-labels-idx1-ubyte.gz\n",
            "Failed to download (trying next):\n",
            "HTTP Error 403: Forbidden\n",
            "\n",
            "Downloading https://ossci-datasets.s3.amazonaws.com/mnist/t10k-labels-idx1-ubyte.gz\n",
            "Downloading https://ossci-datasets.s3.amazonaws.com/mnist/t10k-labels-idx1-ubyte.gz to data/MNIST/raw/t10k-labels-idx1-ubyte.gz\n"
          ]
        },
        {
          "output_type": "stream",
          "name": "stderr",
          "text": [
            "100%|██████████| 4542/4542 [00:00<00:00, 4253299.57it/s]"
          ]
        },
        {
          "output_type": "stream",
          "name": "stdout",
          "text": [
            "Extracting data/MNIST/raw/t10k-labels-idx1-ubyte.gz to data/MNIST/raw\n",
            "\n"
          ]
        },
        {
          "output_type": "stream",
          "name": "stderr",
          "text": [
            "\n"
          ]
        }
      ]
    },
    {
      "cell_type": "code",
      "source": [
        "def initiliase_optimizer(model):\n",
        "    return optim.Adam(model.parameters(), lr = 0.0001)"
      ],
      "metadata": {
        "id": "Aao433EbOXj4"
      },
      "execution_count": null,
      "outputs": []
    },
    {
      "cell_type": "code",
      "source": [
        "def train(model, optimizer, data):\n",
        "    model.train()\n",
        "    for batch_idx, (data, target) in enumerate(data):\n",
        "        data, target = Variable(data), Variable(target)\n",
        "        optimizer.zero_grad()\n",
        "\n",
        "        output = model(data.view(-1, 784))\n",
        "        loss_fn = torch.nn.CrossEntropyLoss()\n",
        "        loss = loss_fn(output, target)\n",
        "        loss.backward()\n",
        "        optimizer.step()"
      ],
      "metadata": {
        "id": "sA_NLV29OXlh"
      },
      "execution_count": null,
      "outputs": []
    },
    {
      "cell_type": "code",
      "source": [
        "def calculate_op_diff(model, loader):\n",
        "    correct = 0\n",
        "    total = 0\n",
        "    costTotal = 0\n",
        "    costCounter = 0\n",
        "    loss_fn = torch.nn.CrossEntropyLoss()\n",
        "    with torch.no_grad():\n",
        "        for batch in loader:\n",
        "            data, target = batch\n",
        "            output = model(data.view(-1, 784))\n",
        "            cost = loss_fn(output, target)\n",
        "            costTotal += cost\n",
        "            costCounter += 1\n",
        "            for i, outputTensor in enumerate(output):\n",
        "                if torch.argmax(outputTensor) == target[i]:\n",
        "                    correct += 1\n",
        "                total += 1\n",
        "    return costTotal / costCounter, round(correct/total, 3)"
      ],
      "metadata": {
        "id": "YubNkE5EOwyY"
      },
      "execution_count": null,
      "outputs": []
    },
    {
      "cell_type": "code",
      "source": [
        "epochs=8\n",
        "param_arr = []\n",
        "train_loss_arr = []\n",
        "test_loss_arr = []\n",
        "train_accuracy_arr = []\n",
        "test_accuracy_arr = []\n",
        "\n",
        "def train_models(model, optimizer, train_data, test_data):\n",
        "    total_train_loss = 0\n",
        "    print('Training model ')\n",
        "    for epoch in range(1, epochs + 1):\n",
        "        train(model, optimizer, train_data)\n",
        "    train_loss, train_acc = calculate_op_diff(model, train_data)\n",
        "    test_loss, test_acc = calculate_op_diff(model, test_data)\n",
        "\n",
        "    train_loss_arr.append(train_loss)\n",
        "    test_loss_arr.append(test_loss)\n",
        "    train_accuracy_arr.append(train_acc)\n",
        "    test_accuracy_arr.append(test_acc)\n",
        "    param_arr.append(calculate_parameters('Model params',  model))\n",
        "    print('Training completed - ' , train_loss)\n",
        "    print('test loss - ', test_loss)\n",
        "    print('train accuracy - ', train_acc)\n",
        "    print('test accuracy - ', test_acc)\n",
        "    return train_loss, test_loss"
      ],
      "metadata": {
        "id": "vxL-ukXdOw1S"
      },
      "execution_count": null,
      "outputs": []
    },
    {
      "cell_type": "code",
      "source": [
        "loss_arr = []\n",
        "test_loss_arr = []"
      ],
      "metadata": {
        "id": "Eb-BVW_yOw3q"
      },
      "execution_count": null,
      "outputs": []
    },
    {
      "cell_type": "markdown",
      "source": [
        "# Model 1"
      ],
      "metadata": {
        "id": "P6Nt9DuQO_zE"
      }
    },
    {
      "cell_type": "code",
      "source": [
        "model = Model_1()\n",
        "# print(\"Model 1 parameters: \", (calculate_parameters(model1)))\n",
        "optimizer = initiliase_optimizer(model)\n",
        "print('Model 1')\n",
        "train_models(model, optimizer, train_data, test_data)"
      ],
      "metadata": {
        "colab": {
          "base_uri": "https://localhost:8080/"
        },
        "id": "S70-RX9yOw74",
        "outputId": "14cc18b3-8061-4410-fadc-787ead5830f8"
      },
      "execution_count": null,
      "outputs": [
        {
          "output_type": "stream",
          "name": "stdout",
          "text": [
            "Model 1\n",
            "Training model \n",
            "Model params: 4079\n",
            "Training completed -  tensor(0.4707)\n",
            "test loss -  tensor(0.4655)\n",
            "train accuracy -  0.864\n",
            "test accuracy -  0.865\n"
          ]
        },
        {
          "output_type": "execute_result",
          "data": {
            "text/plain": [
              "(tensor(0.4707), tensor(0.4655))"
            ]
          },
          "metadata": {},
          "execution_count": 16
        }
      ]
    },
    {
      "cell_type": "markdown",
      "source": [
        "# Model 2"
      ],
      "metadata": {
        "id": "vcAk_RBqPGRX"
      }
    },
    {
      "cell_type": "code",
      "source": [
        "model = Model_2()\n",
        "# print(\"Model 1 parameters: \", (calculate_parameters(model1)))\n",
        "optimizer = initiliase_optimizer(model)\n",
        "print('Model 2')\n",
        "loss = train_models(model, optimizer, train_data, test_data)"
      ],
      "metadata": {
        "colab": {
          "base_uri": "https://localhost:8080/"
        },
        "id": "cG68YFJGOw-N",
        "outputId": "763aa5f5-54b9-4c66-a459-5e3575870d53"
      },
      "execution_count": null,
      "outputs": [
        {
          "output_type": "stream",
          "name": "stdout",
          "text": [
            "Model 2\n",
            "Training model \n",
            "Model params: 19923\n",
            "Training completed -  tensor(0.2649)\n",
            "test loss -  tensor(0.2666)\n",
            "train accuracy -  0.923\n",
            "test accuracy -  0.921\n"
          ]
        }
      ]
    },
    {
      "cell_type": "markdown",
      "source": [
        "# Model 3"
      ],
      "metadata": {
        "id": "X-EFm5QUPJgV"
      }
    },
    {
      "cell_type": "code",
      "source": [
        "model = Model_3()\n",
        "# print(\"Model 1 parameters: \", (calculate_parameters(model1)))\n",
        "optimizer = initiliase_optimizer(model)\n",
        "print('Model 3')\n",
        "loss = train_models(model, optimizer, train_data, test_data)"
      ],
      "metadata": {
        "colab": {
          "base_uri": "https://localhost:8080/"
        },
        "id": "0u8zdjUJPH-o",
        "outputId": "093d3378-d279-4c3e-fa88-5804f90965e2"
      },
      "execution_count": null,
      "outputs": [
        {
          "output_type": "stream",
          "name": "stdout",
          "text": [
            "Model 3\n",
            "Training model \n",
            "Model params: 35783\n",
            "Training completed -  tensor(0.2150)\n",
            "test loss -  tensor(0.2220)\n",
            "train accuracy -  0.938\n",
            "test accuracy -  0.935\n"
          ]
        }
      ]
    },
    {
      "cell_type": "markdown",
      "source": [
        "# Model 4"
      ],
      "metadata": {
        "id": "hNyymAg0POr7"
      }
    },
    {
      "cell_type": "code",
      "source": [
        "model = Model_4()\n",
        "# print(\"Model 1 parameters: \", (calculate_parameters(model1)))\n",
        "optimizer = initiliase_optimizer(model)\n",
        "print('Model 4')\n",
        "loss = train_models(model, optimizer, train_data, test_data)"
      ],
      "metadata": {
        "colab": {
          "base_uri": "https://localhost:8080/"
        },
        "id": "9CTL-NTvPIKo",
        "outputId": "0d64051a-5b85-465a-ee49-0544c46b12dc"
      },
      "execution_count": null,
      "outputs": [
        {
          "output_type": "stream",
          "name": "stdout",
          "text": [
            "Model 4\n",
            "Training model \n",
            "Model params: 51643\n",
            "Training completed -  tensor(0.1802)\n",
            "test loss -  tensor(0.1911)\n",
            "train accuracy -  0.95\n",
            "test accuracy -  0.946\n"
          ]
        }
      ]
    },
    {
      "cell_type": "markdown",
      "source": [
        "# Model 5"
      ],
      "metadata": {
        "id": "9A59teZwPUD0"
      }
    },
    {
      "cell_type": "code",
      "source": [
        "model = Model_5()\n",
        "# print(\"Model 1 parameters: \", (calculate_parameters(model1)))\n",
        "optimizer = initiliase_optimizer(model)\n",
        "print('Model 5')\n",
        "loss = train_models(model, optimizer, train_data, test_data)"
      ],
      "metadata": {
        "colab": {
          "base_uri": "https://localhost:8080/"
        },
        "id": "EipWED3GPING",
        "outputId": "37be129a-99ce-4248-9b6c-88937c74cf10"
      },
      "execution_count": null,
      "outputs": [
        {
          "output_type": "stream",
          "name": "stdout",
          "text": [
            "Model 5\n",
            "Training model \n",
            "Model params: 67503\n",
            "Training completed -  tensor(0.1591)\n",
            "test loss -  tensor(0.1643)\n",
            "train accuracy -  0.954\n",
            "test accuracy -  0.954\n"
          ]
        }
      ]
    },
    {
      "cell_type": "markdown",
      "source": [
        "# Model 6"
      ],
      "metadata": {
        "id": "6Bon74wRPZoj"
      }
    },
    {
      "cell_type": "code",
      "source": [
        "model = Model_6()\n",
        "# print(\"Model 1 parameters: \", (calculate_parameters(model1)))\n",
        "optimizer = initiliase_optimizer(model)\n",
        "print('Model 6')\n",
        "loss = train_models(model, optimizer, train_data, test_data)"
      ],
      "metadata": {
        "colab": {
          "base_uri": "https://localhost:8080/"
        },
        "id": "MopHnS7PPIPq",
        "outputId": "726cef19-1ce6-44ef-c569-2b77b60cd633"
      },
      "execution_count": null,
      "outputs": [
        {
          "output_type": "stream",
          "name": "stdout",
          "text": [
            "Model 6\n",
            "Training model \n",
            "Model params: 83363\n",
            "Training completed -  tensor(0.1271)\n",
            "test loss -  tensor(0.1391)\n",
            "train accuracy -  0.964\n",
            "test accuracy -  0.958\n"
          ]
        }
      ]
    },
    {
      "cell_type": "markdown",
      "source": [
        "# Model 7"
      ],
      "metadata": {
        "id": "KJRjPyfdPe8u"
      }
    },
    {
      "cell_type": "code",
      "source": [
        "model = Model_7()\n",
        "# print(\"Model 1 parameters: \", (calculate_parameters(model1)))\n",
        "optimizer = initiliase_optimizer(model)\n",
        "print('Model 7')\n",
        "loss = train_models(model, optimizer, train_data, test_data)"
      ],
      "metadata": {
        "colab": {
          "base_uri": "https://localhost:8080/"
        },
        "id": "aOG0z8olPISO",
        "outputId": "7cc2d3ef-26b8-4799-92d4-3108eb85c3c9"
      },
      "execution_count": null,
      "outputs": [
        {
          "output_type": "stream",
          "name": "stdout",
          "text": [
            "Model 7\n",
            "Training model \n",
            "Model params: 99223\n",
            "Training completed -  tensor(0.1302)\n",
            "test loss -  tensor(0.1451)\n",
            "train accuracy -  0.964\n",
            "test accuracy -  0.959\n"
          ]
        }
      ]
    },
    {
      "cell_type": "markdown",
      "source": [
        "# Model 8"
      ],
      "metadata": {
        "id": "tYs9WjOKPklE"
      }
    },
    {
      "cell_type": "code",
      "source": [
        "model = Model_8()\n",
        "# print(\"Model 1 parameters: \", (calculate_parameters(model1)))\n",
        "optimizer = initiliase_optimizer(model)\n",
        "print('Model 8')\n",
        "loss = train_models(model, optimizer, train_data, test_data)"
      ],
      "metadata": {
        "colab": {
          "base_uri": "https://localhost:8080/"
        },
        "id": "NLj92xwEPIUn",
        "outputId": "1eeda33d-6fc5-4fea-8594-4cb31b823a4f"
      },
      "execution_count": null,
      "outputs": [
        {
          "output_type": "stream",
          "name": "stdout",
          "text": [
            "Model 8\n",
            "Training model \n",
            "Model params: 115083\n",
            "Training completed -  tensor(0.1353)\n",
            "test loss -  tensor(0.1484)\n",
            "train accuracy -  0.963\n",
            "test accuracy -  0.958\n"
          ]
        }
      ]
    },
    {
      "cell_type": "markdown",
      "source": [
        "# Model 9"
      ],
      "metadata": {
        "id": "VnHNgva6Pos1"
      }
    },
    {
      "cell_type": "code",
      "source": [
        "model = Model_9()\n",
        "# print(\"Model 1 parameters: \", (calculate_parameters(model1)))\n",
        "optimizer = initiliase_optimizer(model)\n",
        "print('Model 9')\n",
        "loss = train_models(model, optimizer, train_data, test_data)"
      ],
      "metadata": {
        "colab": {
          "base_uri": "https://localhost:8080/"
        },
        "id": "5iwFA3WePIW3",
        "outputId": "b94762b4-da40-495f-efdf-f4647f049b25"
      },
      "execution_count": null,
      "outputs": [
        {
          "output_type": "stream",
          "name": "stdout",
          "text": [
            "Model 9\n",
            "Training model \n",
            "Model params: 130943\n",
            "Training completed -  tensor(0.1183)\n",
            "test loss -  tensor(0.1333)\n",
            "train accuracy -  0.967\n",
            "test accuracy -  0.961\n"
          ]
        }
      ]
    },
    {
      "cell_type": "markdown",
      "source": [
        "# Model 10"
      ],
      "metadata": {
        "id": "6cvH5ItwPvZ4"
      }
    },
    {
      "cell_type": "code",
      "source": [
        "model = Model_10()\n",
        "# print(\"Model 1 parameters: \", (calculate_parameters(model1)))\n",
        "optimizer = initiliase_optimizer(model)\n",
        "print('Model 10')\n",
        "loss = train_models(model, optimizer, train_data, test_data)"
      ],
      "metadata": {
        "colab": {
          "base_uri": "https://localhost:8080/"
        },
        "id": "BRCbKAKMPIZA",
        "outputId": "58f196c5-41a1-425a-85ff-8c0b6adab6d2"
      },
      "execution_count": null,
      "outputs": [
        {
          "output_type": "stream",
          "name": "stdout",
          "text": [
            "Model 10\n",
            "Training model \n",
            "Model params: 146803\n",
            "Training completed -  tensor(0.1149)\n",
            "test loss -  tensor(0.1302)\n",
            "train accuracy -  0.968\n",
            "test accuracy -  0.96\n"
          ]
        }
      ]
    },
    {
      "cell_type": "markdown",
      "source": [
        "# Loss"
      ],
      "metadata": {
        "id": "lgoetz7nZHIm"
      }
    },
    {
      "cell_type": "code",
      "source": [
        "plt.xlabel('Parameters')\n",
        "plt.ylabel('Loss')\n",
        "plt.plot(param_arr,train_loss_arr,  color = \"red\")\n",
        "plt.plot(param_arr,test_loss_arr,  color = \"purple\")\n",
        "plt.legend(['Train', 'Test'])\n",
        "plt.show()"
      ],
      "metadata": {
        "colab": {
          "base_uri": "https://localhost:8080/",
          "height": 449
        },
        "id": "e4TBOxCaPIbJ",
        "outputId": "691a6854-7a5f-42d6-bbe2-1e90666bb0cf"
      },
      "execution_count": null,
      "outputs": [
        {
          "output_type": "display_data",
          "data": {
            "text/plain": [
              "<Figure size 640x480 with 1 Axes>"
            ],
            "image/png": "[encoded data removed]"
          },
          "metadata": {}
        }
      ]
    },
    {
      "cell_type": "markdown",
      "source": [
        "# Accuracy"
      ],
      "metadata": {
        "id": "20kVes2YZIe9"
      }
    },
    {
      "cell_type": "code",
      "source": [
        "plt.xlabel('Parameters')\n",
        "plt.ylabel('Accuracy')\n",
        "plt.plot(param_arr,train_accuracy_arr,  color = \"red\")\n",
        "plt.plot(param_arr,test_accuracy_arr,  color = \"purple\")\n",
        "plt.legend(['Train', 'Test'])\n",
        "plt.show()"
      ],
      "metadata": {
        "colab": {
          "base_uri": "https://localhost:8080/",
          "height": 449
        },
        "id": "aSID-RosOxAZ",
        "outputId": "b62443e5-30ec-459d-fbd6-37294327ba35"
      },
      "execution_count": null,
      "outputs": [
        {
          "output_type": "display_data",
          "data": {
            "text/plain": [
              "<Figure size 640x480 with 1 Axes>"
            ],
            "image/png": "[encoded data removed]"
          },
          "metadata": {}
        }
      ]
    }
  ]
}