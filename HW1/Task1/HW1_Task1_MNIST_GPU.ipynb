{
  "nbformat": 4,
  "nbformat_minor": 0,
  "metadata": {
    "colab": {
      "provenance": [],
      "gpuType": "T4"
    },
    "kernelspec": {
      "name": "python3",
      "display_name": "Python 3"
    },
    "language_info": {
      "name": "python"
    },
    "accelerator": "GPU"
  },
  "cells": [
    {
      "cell_type": "markdown",
      "source": [
        "# GPU"
      ],
      "metadata": {
        "id": "idVAzoYnRGnt"
      }
    },
    {
      "cell_type": "code",
      "source": [
        "device = torch.device(\"cuda:0\" if torch.cuda.is_available() else \"cpu\")\n",
        "print(device)"
      ],
      "metadata": {
        "colab": {
          "base_uri": "https://localhost:8080/"
        },
        "id": "VWyFIXXsYDba",
        "outputId": "f3c3e34d-6884-4013-bccb-c6d57c4367d4"
      },
      "execution_count": null,
      "outputs": [
        {
          "output_type": "stream",
          "name": "stdout",
          "text": [
            "cuda:0\n"
          ]
        }
      ]
    },
    {
      "cell_type": "code",
      "execution_count": null,
      "metadata": {
        "id": "xJlAXNGPQ7wo"
      },
      "outputs": [],
      "source": [
        "import pandas as pd\n",
        "import numpy as np\n",
        "import torch\n",
        "import torch.nn as nn\n",
        "import torch.optim as optim\n",
        "import torch.nn.functional as F\n",
        "from torch.autograd import Variable\n",
        "from torch.utils.data import Dataset, DataLoader\n",
        "import matplotlib.pyplot as plt"
      ]
    },
    {
      "cell_type": "markdown",
      "source": [
        "# Download MNIST Dataset"
      ],
      "metadata": {
        "id": "lQlYKw61RF25"
      }
    },
    {
      "cell_type": "code",
      "source": [
        "from torchvision import datasets, transforms\n",
        "\n",
        "folder = './data'\n",
        "trans = transforms.Compose([transforms.ToTensor(), transforms.Normalize((0.1307,), (0.3081,)), transforms.Resize((32, 32))])\n",
        "\n",
        "train_set = datasets.MNIST(\n",
        "    root = folder,\n",
        "    train = True,\n",
        "    transform = trans,\n",
        "    download = True,\n",
        ")\n",
        "\n",
        "test_set = datasets.MNIST(\n",
        "    root = folder,\n",
        "    train = False,\n",
        "    transform = trans,\n",
        "    download = True\n",
        ")"
      ],
      "metadata": {
        "colab": {
          "base_uri": "https://localhost:8080/"
        },
        "id": "8wD6XZyWRBe0",
        "outputId": "6295018f-6da0-4497-f9b2-33631f23148e"
      },
      "execution_count": null,
      "outputs": [
        {
          "output_type": "stream",
          "name": "stdout",
          "text": [
            "Downloading http://yann.lecun.com/exdb/mnist/train-images-idx3-ubyte.gz\n",
            "Failed to download (trying next):\n",
            "HTTP Error 403: Forbidden\n",
            "\n",
            "Downloading https://ossci-datasets.s3.amazonaws.com/mnist/train-images-idx3-ubyte.gz\n",
            "Downloading https://ossci-datasets.s3.amazonaws.com/mnist/train-images-idx3-ubyte.gz to ./data/MNIST/raw/train-images-idx3-ubyte.gz\n"
          ]
        },
        {
          "output_type": "stream",
          "name": "stderr",
          "text": [
            "100%|██████████| 9912422/9912422 [00:02<00:00, 4572386.23it/s]\n"
          ]
        },
        {
          "output_type": "stream",
          "name": "stdout",
          "text": [
            "Extracting ./data/MNIST/raw/train-images-idx3-ubyte.gz to ./data/MNIST/raw\n",
            "\n",
            "Downloading http://yann.lecun.com/exdb/mnist/train-labels-idx1-ubyte.gz\n",
            "Failed to download (trying next):\n",
            "HTTP Error 403: Forbidden\n",
            "\n",
            "Downloading https://ossci-datasets.s3.amazonaws.com/mnist/train-labels-idx1-ubyte.gz\n",
            "Downloading https://ossci-datasets.s3.amazonaws.com/mnist/train-labels-idx1-ubyte.gz to ./data/MNIST/raw/train-labels-idx1-ubyte.gz\n"
          ]
        },
        {
          "output_type": "stream",
          "name": "stderr",
          "text": [
            "100%|██████████| 28881/28881 [00:00<00:00, 133765.28it/s]\n"
          ]
        },
        {
          "output_type": "stream",
          "name": "stdout",
          "text": [
            "Extracting ./data/MNIST/raw/train-labels-idx1-ubyte.gz to ./data/MNIST/raw\n",
            "\n",
            "Downloading http://yann.lecun.com/exdb/mnist/t10k-images-idx3-ubyte.gz\n",
            "Failed to download (trying next):\n",
            "HTTP Error 403: Forbidden\n",
            "\n",
            "Downloading https://ossci-datasets.s3.amazonaws.com/mnist/t10k-images-idx3-ubyte.gz\n",
            "Downloading https://ossci-datasets.s3.amazonaws.com/mnist/t10k-images-idx3-ubyte.gz to ./data/MNIST/raw/t10k-images-idx3-ubyte.gz\n"
          ]
        },
        {
          "output_type": "stream",
          "name": "stderr",
          "text": [
            "100%|██████████| 1648877/1648877 [00:01<00:00, 1257643.80it/s]\n"
          ]
        },
        {
          "output_type": "stream",
          "name": "stdout",
          "text": [
            "Extracting ./data/MNIST/raw/t10k-images-idx3-ubyte.gz to ./data/MNIST/raw\n",
            "\n",
            "Downloading http://yann.lecun.com/exdb/mnist/t10k-labels-idx1-ubyte.gz\n",
            "Failed to download (trying next):\n",
            "HTTP Error 403: Forbidden\n",
            "\n",
            "Downloading https://ossci-datasets.s3.amazonaws.com/mnist/t10k-labels-idx1-ubyte.gz\n",
            "Downloading https://ossci-datasets.s3.amazonaws.com/mnist/t10k-labels-idx1-ubyte.gz to ./data/MNIST/raw/t10k-labels-idx1-ubyte.gz\n"
          ]
        },
        {
          "output_type": "stream",
          "name": "stderr",
          "text": [
            "100%|██████████| 4542/4542 [00:00<00:00, 10303152.39it/s]"
          ]
        },
        {
          "output_type": "stream",
          "name": "stdout",
          "text": [
            "Extracting ./data/MNIST/raw/t10k-labels-idx1-ubyte.gz to ./data/MNIST/raw\n",
            "\n"
          ]
        },
        {
          "output_type": "stream",
          "name": "stderr",
          "text": [
            "\n"
          ]
        }
      ]
    },
    {
      "cell_type": "code",
      "source": [
        "def get_data(train_size, test_size):\n",
        "    train_data = torch.utils.data.DataLoader(\n",
        "                 dataset=train_set,\n",
        "                 batch_size=train_size,\n",
        "                 shuffle=True)\n",
        "    test_data = torch.utils.data.DataLoader(\n",
        "                dataset=test_set,\n",
        "                batch_size=test_size,\n",
        "                shuffle=True)\n",
        "    return (train_data, test_data)"
      ],
      "metadata": {
        "id": "-UOThIi6RBhL"
      },
      "execution_count": null,
      "outputs": []
    },
    {
      "cell_type": "markdown",
      "source": [
        "# Model 1"
      ],
      "metadata": {
        "id": "ECgkDGPeRNXw"
      }
    },
    {
      "cell_type": "code",
      "source": [
        "class Model_1(nn.Module):\n",
        "    def __init__(self):\n",
        "        super(Model_1, self).__init__()\n",
        "\n",
        "        self.c1 = nn.Conv2d(1, 6, 5)\n",
        "        self.c2 = nn.Conv2d(6, 16, 5)\n",
        "        self.l1 = nn.Linear(16 * 5 * 5, 120)\n",
        "        self.l2 = nn.Linear(120, 84)\n",
        "        self.l3 = nn.Linear(84, 10)\n",
        "\n",
        "    def forward(self, x):\n",
        "        x = F.max_pool2d(F.relu(self.c1(x)), 2)\n",
        "        x = F.max_pool2d(F.relu(self.c2(x)), 2)\n",
        "        x = x.view(x.size()[0], -1)\n",
        "        x = F.relu(self.l1(x))\n",
        "        x = F.relu(self.l2(x))\n",
        "        x = self.l3(x)\n",
        "\n",
        "        return x"
      ],
      "metadata": {
        "id": "TV3d7pLPRIU1"
      },
      "execution_count": null,
      "outputs": []
    },
    {
      "cell_type": "code",
      "source": [
        "from os import pread\n",
        "def train_model(model, loss_func, epoch, data, optimizer):\n",
        "    average_loss = 0\n",
        "    sample_size = 0\n",
        "    correct_predictions = 0\n",
        "    total_loss = 0\n",
        "    i=0\n",
        "    for batch_idx, (x, target) in enumerate(data):\n",
        "        i+=1\n",
        "        optimizer.zero_grad()\n",
        "        x, expected_out = x.to(device), target.to(device)\n",
        "        #x, expected_out = Variable(x), Variable(target)\n",
        "        output = model(x)\n",
        "        loss = loss_func(output, expected_out)\n",
        "        loss.backward()\n",
        "        optimizer.step()\n",
        "        predicted_output = torch.argmax(output, dim=1)\n",
        "        #predicted_output = np.argmax(output.data.numpy(), axis=1)\n",
        "\n",
        "        sample_size = sample_size + target.size(0)\n",
        "        correct_predictions = correct_predictions + (predicted_output == expected_out).sum().item()\n",
        "        accuracy = 100.0 * correct_predictions / sample_size\n",
        "        total_loss = total_loss + loss.data\n",
        "\n",
        "        if (batch_idx+1) % 150 == 0 or (batch_idx+1) == len(data):\n",
        "            print('Epoch: {}, batch index: {}, accuracy: {}, train loss: {:.6f}'.format(\n",
        "                epoch, batch_idx+1, round(accuracy, 2), loss.data))\n",
        "\n",
        "    total_loss = total_loss/i;\n",
        "    return total_loss, round(accuracy,2)\n",
        "\n",
        "\n",
        "train_data, test_data = get_data(64, 1000)\n",
        "model = Model_1().to(device)\n",
        "optimizer = optim.SGD(model.parameters(), lr=0.01, momentum=0.9)\n",
        "loss_func = nn.CrossEntropyLoss().to(device)\n",
        "loss_arr = []\n",
        "accuracy_arr = []\n",
        "\n",
        "for epoch in range(1, 11):\n",
        "    model.train()\n",
        "    loss, accuracy = train_model(model, loss_func, epoch, train_data, optimizer)\n",
        "    loss_arr.append(loss.cpu().item())\n",
        "    accuracy_arr.append(accuracy)"
      ],
      "metadata": {
        "colab": {
          "base_uri": "https://localhost:8080/"
        },
        "id": "mSbmIBgHRIXN",
        "outputId": "17067e5f-40c0-4f1a-96c4-35f66bc3a177"
      },
      "execution_count": null,
      "outputs": [
        {
          "output_type": "stream",
          "name": "stdout",
          "text": [
            "Epoch: 1, batch index: 150, accuracy: 63.59, train loss: 0.208008\n",
            "Epoch: 1, batch index: 300, accuracy: 78.49, train loss: 0.065347\n",
            "Epoch: 1, batch index: 450, accuracy: 84.09, train loss: 0.090899\n",
            "Epoch: 1, batch index: 600, accuracy: 87.26, train loss: 0.054596\n",
            "Epoch: 1, batch index: 750, accuracy: 89.25, train loss: 0.082783\n",
            "Epoch: 1, batch index: 900, accuracy: 90.61, train loss: 0.072759\n",
            "Epoch: 1, batch index: 938, accuracy: 90.87, train loss: 0.010059\n",
            "Epoch: 2, batch index: 150, accuracy: 97.85, train loss: 0.015338\n",
            "Epoch: 2, batch index: 300, accuracy: 97.93, train loss: 0.041938\n",
            "Epoch: 2, batch index: 450, accuracy: 97.97, train loss: 0.059378\n",
            "Epoch: 2, batch index: 600, accuracy: 97.98, train loss: 0.031330\n",
            "Epoch: 2, batch index: 750, accuracy: 97.99, train loss: 0.041861\n",
            "Epoch: 2, batch index: 900, accuracy: 98.06, train loss: 0.024943\n",
            "Epoch: 2, batch index: 938, accuracy: 98.06, train loss: 0.008439\n",
            "Epoch: 3, batch index: 150, accuracy: 98.67, train loss: 0.027202\n",
            "Epoch: 3, batch index: 300, accuracy: 98.57, train loss: 0.046119\n",
            "Epoch: 3, batch index: 450, accuracy: 98.59, train loss: 0.010973\n",
            "Epoch: 3, batch index: 600, accuracy: 98.64, train loss: 0.015595\n",
            "Epoch: 3, batch index: 750, accuracy: 98.65, train loss: 0.006441\n",
            "Epoch: 3, batch index: 900, accuracy: 98.67, train loss: 0.020539\n",
            "Epoch: 3, batch index: 938, accuracy: 98.67, train loss: 0.006505\n",
            "Epoch: 4, batch index: 150, accuracy: 99.15, train loss: 0.089591\n",
            "Epoch: 4, batch index: 300, accuracy: 98.96, train loss: 0.091865\n",
            "Epoch: 4, batch index: 450, accuracy: 98.98, train loss: 0.012409\n",
            "Epoch: 4, batch index: 600, accuracy: 98.95, train loss: 0.046759\n",
            "Epoch: 4, batch index: 750, accuracy: 98.92, train loss: 0.036329\n",
            "Epoch: 4, batch index: 900, accuracy: 98.91, train loss: 0.007437\n",
            "Epoch: 4, batch index: 938, accuracy: 98.91, train loss: 0.015277\n",
            "Epoch: 5, batch index: 150, accuracy: 99.14, train loss: 0.010090\n",
            "Epoch: 5, batch index: 300, accuracy: 99.18, train loss: 0.003172\n",
            "Epoch: 5, batch index: 450, accuracy: 99.2, train loss: 0.004812\n",
            "Epoch: 5, batch index: 600, accuracy: 99.14, train loss: 0.032327\n",
            "Epoch: 5, batch index: 750, accuracy: 99.12, train loss: 0.004830\n",
            "Epoch: 5, batch index: 900, accuracy: 99.1, train loss: 0.008321\n",
            "Epoch: 5, batch index: 938, accuracy: 99.11, train loss: 0.003430\n",
            "Epoch: 6, batch index: 150, accuracy: 99.49, train loss: 0.005309\n",
            "Epoch: 6, batch index: 300, accuracy: 99.45, train loss: 0.002154\n",
            "Epoch: 6, batch index: 450, accuracy: 99.41, train loss: 0.001495\n",
            "Epoch: 6, batch index: 600, accuracy: 99.37, train loss: 0.003413\n",
            "Epoch: 6, batch index: 750, accuracy: 99.37, train loss: 0.005464\n",
            "Epoch: 6, batch index: 900, accuracy: 99.37, train loss: 0.004002\n",
            "Epoch: 6, batch index: 938, accuracy: 99.36, train loss: 0.015542\n",
            "Epoch: 7, batch index: 150, accuracy: 99.5, train loss: 0.003546\n",
            "Epoch: 7, batch index: 300, accuracy: 99.35, train loss: 0.020919\n",
            "Epoch: 7, batch index: 450, accuracy: 99.36, train loss: 0.030224\n",
            "Epoch: 7, batch index: 600, accuracy: 99.38, train loss: 0.053720\n",
            "Epoch: 7, batch index: 750, accuracy: 99.38, train loss: 0.016475\n",
            "Epoch: 7, batch index: 900, accuracy: 99.4, train loss: 0.014923\n",
            "Epoch: 7, batch index: 938, accuracy: 99.4, train loss: 0.016545\n",
            "Epoch: 8, batch index: 150, accuracy: 99.53, train loss: 0.003004\n",
            "Epoch: 8, batch index: 300, accuracy: 99.53, train loss: 0.007902\n",
            "Epoch: 8, batch index: 450, accuracy: 99.56, train loss: 0.013444\n",
            "Epoch: 8, batch index: 600, accuracy: 99.51, train loss: 0.003046\n",
            "Epoch: 8, batch index: 750, accuracy: 99.48, train loss: 0.006298\n",
            "Epoch: 8, batch index: 900, accuracy: 99.48, train loss: 0.006309\n",
            "Epoch: 8, batch index: 938, accuracy: 99.48, train loss: 0.003230\n",
            "Epoch: 9, batch index: 150, accuracy: 99.81, train loss: 0.003439\n",
            "Epoch: 9, batch index: 300, accuracy: 99.67, train loss: 0.025669\n",
            "Epoch: 9, batch index: 450, accuracy: 99.7, train loss: 0.004225\n",
            "Epoch: 9, batch index: 600, accuracy: 99.67, train loss: 0.004312\n",
            "Epoch: 9, batch index: 750, accuracy: 99.64, train loss: 0.004517\n",
            "Epoch: 9, batch index: 900, accuracy: 99.62, train loss: 0.000050\n",
            "Epoch: 9, batch index: 938, accuracy: 99.62, train loss: 0.011048\n",
            "Epoch: 10, batch index: 150, accuracy: 99.51, train loss: 0.002962\n",
            "Epoch: 10, batch index: 300, accuracy: 99.62, train loss: 0.000165\n",
            "Epoch: 10, batch index: 450, accuracy: 99.58, train loss: 0.010506\n",
            "Epoch: 10, batch index: 600, accuracy: 99.61, train loss: 0.001129\n",
            "Epoch: 10, batch index: 750, accuracy: 99.61, train loss: 0.000844\n",
            "Epoch: 10, batch index: 900, accuracy: 99.61, train loss: 0.024236\n",
            "Epoch: 10, batch index: 938, accuracy: 99.61, train loss: 0.010780\n"
          ]
        }
      ]
    },
    {
      "cell_type": "markdown",
      "source": [
        "# Model 2"
      ],
      "metadata": {
        "id": "j2GWsQI6RchY"
      }
    },
    {
      "cell_type": "code",
      "source": [
        "class Model_2(nn.Module):\n",
        "    def __init__(self):\n",
        "        super(Model_2, self).__init__()\n",
        "        self.c1 = nn.Conv2d(1, 32, 5)\n",
        "        self.c2 = nn.Conv2d(32, 64, 5)\n",
        "        self.c3 = nn.Conv2d(64, 64, 5)\n",
        "        self.l1 = nn.Linear(1024, 256)\n",
        "        self.l2 = nn.Linear(256, 10)\n",
        "    def forward(self, x):\n",
        "        x = F.relu(self.c1(x))\n",
        "        x = F.relu(F.max_pool2d(self.c2(x), 2))\n",
        "        x = F.dropout(x, p=0.5, training=self.training)\n",
        "        x = F.relu(F.max_pool2d(self.c3(x),2))\n",
        "        x = F.dropout(x, p=0.5, training=self.training)\n",
        "        x = x.view(x.size()[0], -1)\n",
        "        x = F.relu(self.l1(x))\n",
        "        x = F.dropout(x, training=self.training)\n",
        "        x = self.l2(x)\n",
        "        return F.log_softmax(x, dim=1)\n",
        "\n",
        "\n",
        "train_data, test_data = get_data(64, 1000)\n",
        "model = Model_2().to(device)\n",
        "optimizer = optim.SGD(model.parameters(), lr=0.01, momentum=0.9)\n",
        "loss_func = nn.CrossEntropyLoss().to(device)\n",
        "loss_arr_2= []\n",
        "accuracy_arr_2 = []\n",
        "\n",
        "for epoch in range(1, 11):\n",
        "    model.train()\n",
        "    loss, accuracy = train_model(model, loss_func, epoch, train_data, optimizer)\n",
        "    loss_arr_2.append(loss.cpu().item())\n",
        "    accuracy_arr_2.append(accuracy)"
      ],
      "metadata": {
        "colab": {
          "base_uri": "https://localhost:8080/"
        },
        "id": "CsyyqqrrRIZT",
        "outputId": "83117e1a-d1f5-4314-f025-aa30385f9df2"
      },
      "execution_count": null,
      "outputs": [
        {
          "output_type": "stream",
          "name": "stdout",
          "text": [
            "Epoch: 1, batch index: 150, accuracy: 63.51, train loss: 0.321486\n",
            "Epoch: 1, batch index: 300, accuracy: 77.29, train loss: 0.274774\n",
            "Epoch: 1, batch index: 450, accuracy: 82.84, train loss: 0.140941\n",
            "Epoch: 1, batch index: 600, accuracy: 85.89, train loss: 0.065375\n",
            "Epoch: 1, batch index: 750, accuracy: 87.91, train loss: 0.047425\n",
            "Epoch: 1, batch index: 900, accuracy: 89.28, train loss: 0.033465\n",
            "Epoch: 1, batch index: 938, accuracy: 89.57, train loss: 0.162696\n",
            "Epoch: 2, batch index: 150, accuracy: 96.42, train loss: 0.102930\n",
            "Epoch: 2, batch index: 300, accuracy: 96.71, train loss: 0.194551\n",
            "Epoch: 2, batch index: 450, accuracy: 96.77, train loss: 0.028893\n",
            "Epoch: 2, batch index: 600, accuracy: 96.88, train loss: 0.041773\n",
            "Epoch: 2, batch index: 750, accuracy: 96.93, train loss: 0.199832\n",
            "Epoch: 2, batch index: 900, accuracy: 96.99, train loss: 0.049077\n",
            "Epoch: 2, batch index: 938, accuracy: 97.0, train loss: 0.071446\n",
            "Epoch: 3, batch index: 150, accuracy: 97.58, train loss: 0.062580\n",
            "Epoch: 3, batch index: 300, accuracy: 97.58, train loss: 0.043610\n",
            "Epoch: 3, batch index: 450, accuracy: 97.64, train loss: 0.055135\n",
            "Epoch: 3, batch index: 600, accuracy: 97.73, train loss: 0.106601\n",
            "Epoch: 3, batch index: 750, accuracy: 97.72, train loss: 0.060257\n",
            "Epoch: 3, batch index: 900, accuracy: 97.76, train loss: 0.076927\n",
            "Epoch: 3, batch index: 938, accuracy: 97.77, train loss: 0.037762\n",
            "Epoch: 4, batch index: 150, accuracy: 97.9, train loss: 0.015747\n",
            "Epoch: 4, batch index: 300, accuracy: 97.96, train loss: 0.161987\n",
            "Epoch: 4, batch index: 450, accuracy: 98.0, train loss: 0.004540\n",
            "Epoch: 4, batch index: 600, accuracy: 98.0, train loss: 0.004104\n",
            "Epoch: 4, batch index: 750, accuracy: 98.08, train loss: 0.064139\n",
            "Epoch: 4, batch index: 900, accuracy: 98.08, train loss: 0.016368\n",
            "Epoch: 4, batch index: 938, accuracy: 98.1, train loss: 0.003964\n",
            "Epoch: 5, batch index: 150, accuracy: 98.18, train loss: 0.010161\n",
            "Epoch: 5, batch index: 300, accuracy: 98.33, train loss: 0.021950\n",
            "Epoch: 5, batch index: 450, accuracy: 98.34, train loss: 0.101880\n",
            "Epoch: 5, batch index: 600, accuracy: 98.27, train loss: 0.039389\n",
            "Epoch: 5, batch index: 750, accuracy: 98.29, train loss: 0.011579\n",
            "Epoch: 5, batch index: 900, accuracy: 98.33, train loss: 0.043515\n",
            "Epoch: 5, batch index: 938, accuracy: 98.33, train loss: 0.013423\n",
            "Epoch: 6, batch index: 150, accuracy: 98.31, train loss: 0.011516\n",
            "Epoch: 6, batch index: 300, accuracy: 98.23, train loss: 0.024275\n",
            "Epoch: 6, batch index: 450, accuracy: 98.26, train loss: 0.014459\n",
            "Epoch: 6, batch index: 600, accuracy: 98.29, train loss: 0.017694\n",
            "Epoch: 6, batch index: 750, accuracy: 98.31, train loss: 0.125613\n",
            "Epoch: 6, batch index: 900, accuracy: 98.34, train loss: 0.006317\n",
            "Epoch: 6, batch index: 938, accuracy: 98.34, train loss: 0.085556\n",
            "Epoch: 7, batch index: 150, accuracy: 98.72, train loss: 0.147861\n",
            "Epoch: 7, batch index: 300, accuracy: 98.51, train loss: 0.050277\n",
            "Epoch: 7, batch index: 450, accuracy: 98.53, train loss: 0.005493\n",
            "Epoch: 7, batch index: 600, accuracy: 98.53, train loss: 0.053929\n",
            "Epoch: 7, batch index: 750, accuracy: 98.55, train loss: 0.093877\n",
            "Epoch: 7, batch index: 900, accuracy: 98.55, train loss: 0.013753\n",
            "Epoch: 7, batch index: 938, accuracy: 98.57, train loss: 0.055982\n",
            "Epoch: 8, batch index: 150, accuracy: 98.33, train loss: 0.009879\n",
            "Epoch: 8, batch index: 300, accuracy: 98.4, train loss: 0.073517\n",
            "Epoch: 8, batch index: 450, accuracy: 98.46, train loss: 0.166949\n",
            "Epoch: 8, batch index: 600, accuracy: 98.51, train loss: 0.058449\n",
            "Epoch: 8, batch index: 750, accuracy: 98.55, train loss: 0.100028\n",
            "Epoch: 8, batch index: 900, accuracy: 98.57, train loss: 0.010782\n",
            "Epoch: 8, batch index: 938, accuracy: 98.58, train loss: 0.010868\n",
            "Epoch: 9, batch index: 150, accuracy: 98.88, train loss: 0.050794\n",
            "Epoch: 9, batch index: 300, accuracy: 98.78, train loss: 0.031645\n",
            "Epoch: 9, batch index: 450, accuracy: 98.78, train loss: 0.011069\n",
            "Epoch: 9, batch index: 600, accuracy: 98.75, train loss: 0.042653\n",
            "Epoch: 9, batch index: 750, accuracy: 98.77, train loss: 0.345534\n",
            "Epoch: 9, batch index: 900, accuracy: 98.71, train loss: 0.105067\n",
            "Epoch: 9, batch index: 938, accuracy: 98.72, train loss: 0.004670\n",
            "Epoch: 10, batch index: 150, accuracy: 98.97, train loss: 0.010980\n",
            "Epoch: 10, batch index: 300, accuracy: 98.92, train loss: 0.006543\n",
            "Epoch: 10, batch index: 450, accuracy: 98.88, train loss: 0.013597\n",
            "Epoch: 10, batch index: 600, accuracy: 98.79, train loss: 0.066019\n",
            "Epoch: 10, batch index: 750, accuracy: 98.76, train loss: 0.040517\n",
            "Epoch: 10, batch index: 900, accuracy: 98.78, train loss: 0.017482\n",
            "Epoch: 10, batch index: 938, accuracy: 98.78, train loss: 0.004348\n"
          ]
        }
      ]
    },
    {
      "cell_type": "markdown",
      "source": [
        "# Accuracy and Loss"
      ],
      "metadata": {
        "id": "jp5wCKhhRkgj"
      }
    },
    {
      "cell_type": "code",
      "source": [
        "plt.xlabel('Epoch')\n",
        "plt.ylabel('Accuracy')\n",
        "plt.plot(np.arange(1,11,1), accuracy_arr, color = \"purple\")\n",
        "plt.plot(np.arange(1,11,1), accuracy_arr_2, color = \"red\")\n",
        "plt.legend(['Model 1', 'Model 2'])\n",
        "plt.show()"
      ],
      "metadata": {
        "colab": {
          "base_uri": "https://localhost:8080/",
          "height": 451
        },
        "id": "qSFEDyxjRIbQ",
        "outputId": "4fb641a4-90d6-4048-ac82-061337bc1d3f"
      },
      "execution_count": null,
      "outputs": [
        {
          "output_type": "display_data",
          "data": {
            "text/plain": [
              "<Figure size 640x480 with 1 Axes>"
            ],
            "image/png": "[encoded data removed]"
          },
          "metadata": {}
        }
      ]
    },
    {
      "cell_type": "code",
      "source": [
        "plt.xlabel('Epoch')\n",
        "plt.ylabel('Loss')\n",
        "plt.plot(np.arange(1, 11, 1), loss_arr, color=\"purple\")\n",
        "plt.plot(np.arange(1, 11, 1), loss_arr_2, color=\"red\")\n",
        "plt.legend(['Model 1', 'Model 2'])\n",
        "plt.show()"
      ],
      "metadata": {
        "colab": {
          "base_uri": "https://localhost:8080/",
          "height": 449
        },
        "id": "4CVYRCTzRIdL",
        "outputId": "f9bbfcda-0059-41e5-cac2-88532d111cc1"
      },
      "execution_count": null,
      "outputs": [
        {
          "output_type": "display_data",
          "data": {
            "text/plain": [
              "<Figure size 640x480 with 1 Axes>"
            ],
            "image/png": "[encoded data removed]"
          },
          "metadata": {}
        }
      ]
    }
  ]
}